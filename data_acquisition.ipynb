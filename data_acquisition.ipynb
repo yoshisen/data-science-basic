{
 "cells": [
  {
   "cell_type": "markdown",
   "metadata": {},
   "source": [
    "データ取得\n",
    "1. Webスクレイピング\n",
    "2. APIを使用したデータ取得\n",
    "3. データベースからのクエリ\n"
   ]
  },
  {
   "cell_type": "code",
   "execution_count": null,
   "metadata": {},
   "outputs": [],
   "source": [
    "# 1. Webスクレイピングの例 (BeautifulSoup を使用)\n",
    "import requests\n",
    "from bs4 import BeautifulSoup\n",
    "\n",
    "# スクレイピングするURL\n",
    "url = 'https://example.com'\n",
    "response = requests.get(url)\n",
    "\n",
    "# HTMLをパース\n",
    "soup = BeautifulSoup(response.text, 'html.parser')\n",
    "\n",
    "# タイトルを取得\n",
    "title = soup.title.text\n",
    "print('ページタイトル:', title)"
   ]
  },
  {
   "cell_type": "code",
   "execution_count": 1,
   "metadata": {},
   "outputs": [
    {
     "name": "stdout",
     "output_type": "stream",
     "text": [
      "APIレスポンス: {'userId': 1, 'id': 1, 'title': 'sunt aut facere repellat provident occaecati excepturi optio reprehenderit', 'body': 'quia et suscipit\\nsuscipit recusandae consequuntur expedita et cum\\nreprehenderit molestiae ut ut quas totam\\nnostrum rerum est autem sunt rem eveniet architecto'}\n"
     ]
    }
   ],
   "source": [
    "# 2. APIを使用したデータ取得 (REST API)\n",
    "import requests\n",
    "\n",
    "# サンプルAPI (JSONPlaceholderの例)\n",
    "url = 'https://jsonplaceholder.typicode.com/posts/1'\n",
    "response = requests.get(url)\n",
    "\n",
    "# JSONデータを取得\n",
    "data = response.json()\n",
    "print('APIレスポンス:', data)"
   ]
  },
  {
   "cell_type": "code",
   "execution_count": null,
   "metadata": {},
   "outputs": [],
   "source": [
    "# 3. データベースからのクエリ (SQLiteを使用)\n",
    "import sqlite3\n",
    "\n",
    "# データベース接続 (サンプルDB)\n",
    "conn = sqlite3.connect(':memory:')\n",
    "cursor = conn.cursor()\n",
    "\n",
    "# テーブル作成\n",
    "cursor.execute('''CREATE TABLE users (id INTEGER PRIMARY KEY, name TEXT)''')\n",
    "\n",
    "# データ挿入\n",
    "cursor.execute(\"INSERT INTO users (name) VALUES ('田中')\")\n",
    "cursor.execute(\"INSERT INTO users (name) VALUES ('佐藤')\")\n",
    "conn.commit()\n",
    "\n",
    "# データ取得\n",
    "cursor.execute(\"SELECT * FROM users\")\n",
    "rows = cursor.fetchall()\n",
    "print('データベースのデータ:', rows)\n",
    "\n",
    "# 接続を閉じる\n",
    "conn.close()"
   ]
  }
 ],
 "metadata": {
  "language_info": {
   "name": "python"
  }
 },
 "nbformat": 4,
 "nbformat_minor": 2
}
